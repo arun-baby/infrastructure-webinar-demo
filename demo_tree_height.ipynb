{
 "cells": [
  {
   "cell_type": "markdown",
   "id": "8084c1ed",
   "metadata": {},
   "source": [
    "# UP42 SDK DEMO\n",
    "UP42’s Python Software Development Kit (SDK) is a set of programming modules that integrates UP42’s powerful infrastructure for geospatial data & processing workflows. The Python package provides direct access to the UP42 Application Program Interface (API), data visualizations, and a Command Line Interface (CLI). The interfaces are built to empower customization, automation, and integration into any geospatial workflows.\n",
    "\n",
    "To start using our SDK install the [up42-py package](https://pypi.org/project/up42-py/). You can find the UP42 SDK documentation [here](https://sdk.up42.com/).\n"
   ]
  },
  {
   "cell_type": "markdown",
   "id": "9c328438",
   "metadata": {},
   "source": [
    "### Tree height detection workflow\n",
    "Railway operators must ensure secure uninterrupted transport. To achieve this they rely on effective monitoring and maintenance of their railway network. Tree falls onto railway tracks or overhead lines rank among the most common causes of disruptions of a natural origin [[Bíl et. al (2017)](https://www.researchgate.net/publication/318816940_Identifying_locations_along_railway_networks_with_the_highest_tree_fall_hazard)]. Thus, there is a need for regular inspections of vegetation inside and near the railway corridors to detect trees or tree branches that need to be cut. With UP42 you are able to get information on tree height using high resolution satellite imagery, for example [Pleiades](https://marketplace.up42.com/block/18d09f1a-3197-4c27-a15a-54d099c31435) or [SPOT](https://marketplace.up42.com/block/045019bb-06fc-4fa1-b703-318725b4d8af) data, in combination with the spacept  [Tree Detection and Height From Shadow](https://marketplace.up42.com/block/f5bf583e-dacb-489c-95b4-0e8be95accc9) block."
   ]
  },
  {
   "cell_type": "code",
   "execution_count": 1,
   "id": "a58bace9",
   "metadata": {},
   "outputs": [],
   "source": [
    "# import necessary libraries for workflow\n",
    "import up42\n",
    "from pprint import pprint\n",
    "import geopandas as gpd\n",
    "from keplergl import KeplerGl\n",
    "from tree_height_utils import cleaning_data, get_kepler_config"
   ]
  },
  {
   "cell_type": "markdown",
   "id": "53a72f4d",
   "metadata": {},
   "source": [
    "#### 1. Authentication "
   ]
  },
  {
   "cell_type": "code",
   "execution_count": 2,
   "id": "d826e652",
   "metadata": {},
   "outputs": [
    {
     "name": "stderr",
     "output_type": "stream",
     "text": [
      "2021-05-11 14:01:43,730 - Got credentials from config file.\n",
      "2021-05-11 14:01:44,365 - Authentication with UP42 successful!\n"
     ]
    }
   ],
   "source": [
    "# authenticate with UP42 via your project credentials\n",
    "alternative: up42.authenticate(project_id=\"1234\", project_api_key=\"ABCD\")"
   ]
  },
  {
   "cell_type": "markdown",
   "id": "7a0a48ac",
   "metadata": {},
   "source": [
    "#### 2. Initialize new project and create a new workflow"
   ]
  },
  {
   "cell_type": "code",
   "execution_count": 3,
   "id": "7ba47b0c",
   "metadata": {},
   "outputs": [
    {
     "name": "stderr",
     "output_type": "stream",
     "text": [
      "2021-05-11 14:02:02,199 - Initialized Project(name: Infrastructure Webinar, project_id: 85fc91ce-530f-4f60-90c6-d3e969e6e9f5, description: , createdAt: 2021-05-05T06:49:55.648022Z)\n"
     ]
    }
   ],
   "source": [
    "project = up42.initialize_project()"
   ]
  },
  {
   "cell_type": "code",
   "execution_count": 4,
   "id": "bd2cb3da",
   "metadata": {},
   "outputs": [
    {
     "name": "stderr",
     "output_type": "stream",
     "text": [
      "2021-05-11 14:02:06,744 - Getting existing workflows in project ...\n",
      "2021-05-11 14:02:07,110 - Got 2 workflows for project 85fc91ce-530f-4f60-90c6-d3e969e6e9f5.\n",
      "100%|██████████| 2/2 [00:00<00:00,  2.60it/s]\n",
      "2021-05-11 14:02:07,890 - Using existing workflow: tree-height-workflow - 5b18113e-323b-4be8-a456-f3a5527ef5f7\n"
     ]
    }
   ],
   "source": [
    "workflow = project.create_workflow(name=\"tree-height-workflow\", use_existing=True)"
   ]
  },
  {
   "cell_type": "markdown",
   "id": "3ec54a04",
   "metadata": {},
   "source": [
    "#### 3. Select blocks for workflow (Pleiades + Raster Tiling + Tree height detection)"
   ]
  },
  {
   "cell_type": "code",
   "execution_count": 5,
   "id": "35192001",
   "metadata": {},
   "outputs": [
    {
     "name": "stderr",
     "output_type": "stream",
     "text": [
      "2021-05-11 14:02:47,913 - Added tasks to workflow: [{'name': 'oneatlas-pleiades-aoiclipped:1', 'parentName': None, 'blockId': '18d09f1a-3197-4c27-a15a-54d099c31435'}, {'name': 'tiling:1', 'parentName': 'oneatlas-pleiades-aoiclipped:1', 'blockId': '3e146dd6-2b67-4d6e-a422-bb3d973e32ff'}, {'name': 'tree-height-detection:1', 'parentName': 'tiling:1', 'blockId': 'f5bf583e-dacb-489c-95b4-0e8be95accc9'}]\n"
     ]
    }
   ],
   "source": [
    "# to check available blocks at up42 do pprint(up42.get_blocks(basic=True))\n",
    "input_tasks = [\n",
    "    \"oneatlas-pleiades-aoiclipped\",\n",
    "    \"tiling\",\n",
    "    \"tree-height-detection\"\n",
    "    ]\n",
    "workflow.add_workflow_tasks(input_tasks)"
   ]
  },
  {
   "cell_type": "markdown",
   "id": "cfbdfb99",
   "metadata": {},
   "source": [
    "#### 4. Add parameters to workflow"
   ]
  },
  {
   "cell_type": "code",
   "execution_count": 6,
   "id": "a093e162",
   "metadata": {},
   "outputs": [
    {
     "name": "stderr",
     "output_type": "stream",
     "text": [
      "2021-05-11 14:02:58,733 - Got 3 tasks/blocks in workflow 5b18113e-323b-4be8-a456-f3a5527ef5f7.\n"
     ]
    },
    {
     "name": "stdout",
     "output_type": "stream",
     "text": [
      "{'oneatlas-pleiades-aoiclipped:1': {'bbox': {'default': None, 'type': 'array'},\n",
      "                                    'contains': {'type': 'geometry'},\n",
      "                                    'ids': {'default': None, 'type': 'array'},\n",
      "                                    'intersects': {'type': 'geometry'},\n",
      "                                    'limit': {'default': 1,\n",
      "                                              'maximum': 500,\n",
      "                                              'minimum': 1,\n",
      "                                              'type': 'integer'},\n",
      "                                    'max_cloud_cover': {'default': 100,\n",
      "                                                        'maximum': 100,\n",
      "                                                        'minimum': 0,\n",
      "                                                        'type': 'integer'},\n",
      "                                    'panchromatic_band': {'default': False,\n",
      "                                                          'type': 'boolean'},\n",
      "                                    'time': {'default': '2018-01-01T00:00:00+00:00/2021-12-31T23:59:59+00:00',\n",
      "                                             'type': 'dateRange'},\n",
      "                                    'time_series': {'default': None,\n",
      "                                                    'type': 'array'},\n",
      "                                    'zoom_level': {'default': 18,\n",
      "                                                   'maximum': 18,\n",
      "                                                   'minimum': 10,\n",
      "                                                   'type': 'integer'}},\n",
      " 'tiling:1': {'augmentation_factor': {'default': 1,\n",
      "                                      'description': 'Factor used to create '\n",
      "                                                     'additional tiles by '\n",
      "                                                     'applying a pixel offset '\n",
      "                                                     '(default 1)',\n",
      "                                      'required': False,\n",
      "                                      'type': 'number'},\n",
      "              'discard_empty_tiles': {'default': True,\n",
      "                                      'description': 'If set to True, tiles '\n",
      "                                                     'that only consist of '\n",
      "                                                     'nodata (as defined by an '\n",
      "                                                     'alpha band or a set '\n",
      "                                                     'nodata value) will not '\n",
      "                                                     'be returned.',\n",
      "                                      'required': False,\n",
      "                                      'type': 'boolean'},\n",
      "              'match_extents': {'default': False,\n",
      "                                'description': 'If set to true, tile extents '\n",
      "                                               'of all input layers will match '\n",
      "                                               '(default false)',\n",
      "                                'required': False,\n",
      "                                'type': 'boolean'},\n",
      "              'nodata': {'default': None,\n",
      "                         'description': 'Value representing nodata within each '\n",
      "                                        'raster band. If not set, defaults to '\n",
      "                                        'the nodata value of the input raster.',\n",
      "                         'required': False,\n",
      "                         'type': 'number'},\n",
      "              'output_prefix': {'default': '',\n",
      "                                'description': 'Prefix of tile names, default '\n",
      "                                               'is to use input filename',\n",
      "                                'required': False,\n",
      "                                'type': 'string'},\n",
      "              'tile_height': {'default': 768,\n",
      "                              'description': 'Height of a tile in pixels',\n",
      "                              'required': True,\n",
      "                              'type': 'number'},\n",
      "              'tile_width': {'default': 768,\n",
      "                             'description': 'Width of a tile in pixels',\n",
      "                             'required': True,\n",
      "                             'type': 'number'}},\n",
      " 'tree-height-detection:1': {}}\n"
     ]
    }
   ],
   "source": [
    "# show required parameters\n",
    "pprint(workflow.get_parameters_info())"
   ]
  },
  {
   "cell_type": "code",
   "execution_count": 7,
   "id": "cc0846b8",
   "metadata": {},
   "outputs": [],
   "source": [
    "# Define the aoi and input parameters of the workflow to run it\n",
    "aoi = up42.read_vector_file(\"aux_files/aoi_asturias.geojson\", as_dataframe=False)\n",
    "# up42.draw_aoi()"
   ]
  },
  {
   "cell_type": "code",
   "execution_count": 8,
   "id": "09046204",
   "metadata": {},
   "outputs": [],
   "source": [
    "input_parameters = workflow.construct_parameters(\n",
    "                                        geometry=aoi, \n",
    "                                        geometry_operation=\"contains\", \n",
    "                                        start_date=\"2019-02-12\",\n",
    "                                        end_date=\"2019-02-14\",\n",
    "                                        limit=1\n",
    "                                    )"
   ]
  },
  {
   "cell_type": "code",
   "execution_count": 9,
   "id": "feac1d00",
   "metadata": {},
   "outputs": [],
   "source": [
    "input_parameters[\"oneatlas-pleiades-aoiclipped:1\"].update({\"max_cloud_cover\": 10})"
   ]
  },
  {
   "cell_type": "markdown",
   "id": "e590b61b",
   "metadata": {},
   "source": [
    "#### 5. Check price with price estimation"
   ]
  },
  {
   "cell_type": "code",
   "execution_count": 10,
   "id": "82f30c95",
   "metadata": {},
   "outputs": [
    {
     "name": "stderr",
     "output_type": "stream",
     "text": [
      "2021-05-11 14:04:40,391 - Estimated: 1476-1852 Credits, Duration: 0-0 min.\n"
     ]
    },
    {
     "data": {
      "text/plain": [
       "{'oneatlas-pleiades-aoiclipped:1': {'blockConsumption': {'resources': {'unit': 'TILE',\n",
       "    'min': 73,\n",
       "    'max': 73},\n",
       "   'credit': {'min': 219, 'max': 219}},\n",
       "  'machineConsumption': {'duration': {'min': 0, 'max': 0},\n",
       "   'credit': {'min': 1, 'max': 1}}},\n",
       " 'tiling:1': {'blockConsumption': {'resources': {'unit': 'MEGABYTE',\n",
       "    'min': 14.352384,\n",
       "    'max': 14.352384},\n",
       "   'credit': {'min': 0, 'max': 0}},\n",
       "  'machineConsumption': {'duration': {'min': 0, 'max': 0},\n",
       "   'credit': {'min': 1, 'max': 1}}},\n",
       " 'tree-height-detection:1': {'blockConsumption': {'resources': {'unit': 'SQUARE_KM',\n",
       "    'min': 0.993923,\n",
       "    'max': 1.2921},\n",
       "   'credit': {'min': 1253, 'max': 1629}},\n",
       "  'machineConsumption': {'duration': {'min': 0, 'max': 0},\n",
       "   'credit': {'min': 2, 'max': 2}}}}"
      ]
     },
     "execution_count": 10,
     "metadata": {},
     "output_type": "execute_result"
    }
   ],
   "source": [
    "# price estimation\n",
    "workflow.estimate_job(input_parameters)"
   ]
  },
  {
   "cell_type": "markdown",
   "id": "522b6728",
   "metadata": {},
   "source": [
    "#### 6. Run dry run"
   ]
  },
  {
   "cell_type": "code",
   "execution_count": 11,
   "id": "8017b592",
   "metadata": {},
   "outputs": [
    {
     "name": "stderr",
     "output_type": "stream",
     "text": [
      "2021-05-11 14:04:49,499 - +++++++++++++++++++++++++++++++++\n",
      "2021-05-11 14:04:49,500 - Running this job as Test Query...\n",
      "2021-05-11 14:04:49,501 - +++++++++++++++++++++++++++++++++\n",
      "2021-05-11 14:04:49,501 - Selected input_parameters: {'oneatlas-pleiades-aoiclipped:1': {'time': '2019-02-12T00:00:00Z/2019-02-14T23:59:59Z', 'limit': 1, 'zoom_level': 18, 'max_cloud_cover': 10, 'panchromatic_band': False, 'contains': {'type': 'Polygon', 'coordinates': (((-5.959160327911377, 43.57086156472658), (-5.972743034362792, 43.558936168312364), (-5.9697604179382315, 43.55721013312703), (-5.9555768966674805, 43.56949345139266), (-5.959160327911377, 43.57086156472658)),)}}, 'tiling:1': {'tile_width': 768, 'tile_height': 768, 'match_extents': False, 'output_prefix': '', 'augmentation_factor': 1, 'discard_empty_tiles': True}, 'tree-height-detection:1': {}, 'config': {'mode': 'DRY_RUN'}}\n",
      "2021-05-11 14:04:50,636 - Created and running new job: a1409229-b176-48e0-98a0-1accb2b5f443.\n",
      "2021-05-11 14:04:51,014 - Tracking job status continuously, reporting every 30 seconds...\n",
      "2021-05-11 14:05:07,968 - Job finished successfully! - a1409229-b176-48e0-98a0-1accb2b5f443\n"
     ]
    }
   ],
   "source": [
    "# run a test job to query data availability and check the configuration\n",
    "test_job = workflow.test_job(input_parameters, track_status=True)"
   ]
  },
  {
   "cell_type": "markdown",
   "id": "095e6e14",
   "metadata": {},
   "source": [
    "#### 7. Run job and download results"
   ]
  },
  {
   "cell_type": "code",
   "execution_count": null,
   "id": "2719f84c",
   "metadata": {},
   "outputs": [],
   "source": [
    "# run the actual job\n",
    "job = workflow.run_job(input_parameters, track_status=True)"
   ]
  },
  {
   "cell_type": "code",
   "execution_count": null,
   "id": "c30e3f4f",
   "metadata": {},
   "outputs": [],
   "source": [
    "# download the job results\n",
    "job.download_results()"
   ]
  },
  {
   "cell_type": "markdown",
   "id": "a91578e9",
   "metadata": {},
   "source": [
    "#### Visualizing the results"
   ]
  },
  {
   "cell_type": "code",
   "execution_count": 12,
   "id": "e84216f5",
   "metadata": {},
   "outputs": [],
   "source": [
    "path_tree_results = \"project_85fc91ce-530f-4f60-90c6-d3e969e6e9f5/job_9a412e30-985a-451d-8e36-397da77c001f/data.json\"\n",
    "# clean the data and create two geodataframes, one containing all trees the other containing only trees above 6m\n",
    "all_trees_gdf, high_trees_gdf = cleaning_data(path_tree_results=path_tree_results)"
   ]
  },
  {
   "cell_type": "code",
   "execution_count": 13,
   "id": "c7f85536",
   "metadata": {},
   "outputs": [
    {
     "name": "stdout",
     "output_type": "stream",
     "text": [
      "User Guide: https://docs.kepler.gl/docs/keplergl-jupyter\n"
     ]
    }
   ],
   "source": [
    "# start keplergl basemap to plot tree heights in jupyter notebook\n",
    "map_trees = KeplerGl(height=600)"
   ]
  },
  {
   "cell_type": "code",
   "execution_count": 14,
   "id": "df55d285",
   "metadata": {},
   "outputs": [],
   "source": [
    "# read shapefile with railways in europe\n",
    "train_lines = gpd.read_file('aux_files/train_line_asturias.shp')"
   ]
  },
  {
   "cell_type": "code",
   "execution_count": 15,
   "id": "707ac4f1",
   "metadata": {},
   "outputs": [],
   "source": [
    "# add each layer to map\n",
    "map_trees.add_data(data=high_trees_gdf, name='high trees')\n",
    "map_trees.add_data(data=all_trees_gdf, name='all trees')\n",
    "map_trees.add_data(data=train_lines, name='train lines')"
   ]
  },
  {
   "cell_type": "code",
   "execution_count": 16,
   "id": "a0d95b2e",
   "metadata": {},
   "outputs": [
    {
     "data": {
      "application/vnd.jupyter.widget-view+json": {
       "model_id": "78bf46924c6343a7a86e0f2a09f1cde5",
       "version_major": 2,
       "version_minor": 0
      },
      "text/plain": [
       "KeplerGl(data={'high trees': {'index': [21, 60, 251, 252, 258, 293, 297, 345, 351, 365, 393, 595, 600, 619, 62…"
      ]
     },
     "metadata": {},
     "output_type": "display_data"
    }
   ],
   "source": [
    "# visualize layers using kepler\n",
    "map_trees"
   ]
  },
  {
   "cell_type": "code",
   "execution_count": 17,
   "id": "27babc17",
   "metadata": {},
   "outputs": [],
   "source": [
    "# add pre-configured configuration for better visualization\n",
    "config = get_kepler_config()"
   ]
  },
  {
   "cell_type": "code",
   "execution_count": 18,
   "id": "728528b5",
   "metadata": {},
   "outputs": [],
   "source": [
    "map_trees.config = config"
   ]
  },
  {
   "cell_type": "code",
   "execution_count": null,
   "id": "82a6daa9",
   "metadata": {},
   "outputs": [],
   "source": [
    "pprint(map_trees.config)"
   ]
  },
  {
   "cell_type": "code",
   "execution_count": null,
   "id": "47ad3562",
   "metadata": {},
   "outputs": [],
   "source": []
  }
 ],
 "metadata": {
  "kernelspec": {
   "display_name": "playground",
   "language": "python",
   "name": "playground"
  },
  "language_info": {
   "codemirror_mode": {
    "name": "ipython",
    "version": 3
   },
   "file_extension": ".py",
   "mimetype": "text/x-python",
   "name": "python",
   "nbconvert_exporter": "python",
   "pygments_lexer": "ipython3",
   "version": "3.7.8"
  }
 },
 "nbformat": 4,
 "nbformat_minor": 5
}
